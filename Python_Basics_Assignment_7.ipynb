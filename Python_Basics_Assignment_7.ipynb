{
 "cells": [
  {
   "cell_type": "markdown",
   "id": "f3fdd6d2",
   "metadata": {},
   "source": [
    "**Q.1. Create two int type variables, apply addition, subtraction, division and multiplications\n",
    "and store the results in variables. Then print the data in the following format by calling the\n",
    "variables:\n",
    "First variable is __ & second variable is __.\n",
    "Addition: __ + __ = __\n",
    "Subtraction: __ - __ = __\n",
    "Multiplication: __ * __ = __\n",
    "Division: __ / __ = __**"
   ]
  },
  {
   "cell_type": "code",
   "execution_count": 1,
   "id": "f32c1365",
   "metadata": {},
   "outputs": [
    {
     "name": "stdout",
     "output_type": "stream",
     "text": [
      "The first variable is: 10 and The second variable is: 2\n",
      "Addition: 10 + 2 = 12\n",
      "Subtraction 10 - 2 = 8\n",
      "Multiplication 10 * 2 = 20\n",
      "Division 10 / 2 = 5.0\n"
     ]
    }
   ],
   "source": [
    "# Prompt the user to enter two numbers\n",
    "num1 = 10\n",
    "num2 = 2\n",
    "\n",
    "# Perform arithmetic operations\n",
    "sum = num1 + num2\n",
    "difference = num1 - num2\n",
    "product = num1 * num2\n",
    "\n",
    "# Handle division carefully as division by zero is undefined\n",
    "if num2 != 0:\n",
    "    quotient = num1 / num2\n",
    "else:\n",
    "    quotient = \"Undefined (division by zero)\"\n",
    "\n",
    "# Print the results\n",
    "print(f\"The first variable is: {num1} and The second variable is: {num2}\")\n",
    "print(f\"Addition: {num1} + {num2} = {sum}\")\n",
    "print(f\"Subtraction {num1} - {num2} = {difference}\")\n",
    "print(f\"Multiplication {num1} * {num2} = {product}\")\n",
    "print(f\"Division {num1} / {num2} = {quotient}\")"
   ]
  },
  {
   "cell_type": "markdown",
   "id": "ffc11f14",
   "metadata": {},
   "source": [
    "Q.2. What is the difference between the following operators:\n",
    "(i) ‘/’ & ‘//’\n",
    "(ii) ‘**’ & ‘^’\n"
   ]
  },
  {
   "cell_type": "markdown",
   "id": "80bb59c7",
   "metadata": {},
   "source": [
    "Ans : \n",
    "    \n",
    "    / Division - Divides left hand operand by right hand operand\n",
    "    // Floor Division - The division of operands where the result is the quotient in which the digits after \n",
    "    the decimal point are removed. But if one of the operands is negative, \n",
    "      the result is floored, i.e., rounded away from zero (towards negative infinity) \n",
    "    "
   ]
  },
  {
   "cell_type": "code",
   "execution_count": 5,
   "id": "de36cf34",
   "metadata": {},
   "outputs": [
    {
     "name": "stdout",
     "output_type": "stream",
     "text": [
      "2.1\n",
      "2\n"
     ]
    }
   ],
   "source": [
    "a = 21\n",
    "b = 10\n",
    "c = 0\n",
    "\n",
    "c = a / b\n",
    "print (c)\n",
    "\n",
    "c = a//b \n",
    "print(c)"
   ]
  },
  {
   "cell_type": "markdown",
   "id": "13499c5f",
   "metadata": {},
   "source": [
    "Q.3. List the logical operators."
   ]
  },
  {
   "cell_type": "markdown",
   "id": "7eb08189",
   "metadata": {},
   "source": [
    "1. and \t Returns True if both statements are true\n",
    "2. or\tReturns True if one of the statements is true\n",
    "3. not\tReverse the result, returns False if the result is true"
   ]
  },
  {
   "cell_type": "code",
   "execution_count": 7,
   "id": "d036234f",
   "metadata": {},
   "outputs": [
    {
     "name": "stdout",
     "output_type": "stream",
     "text": [
      "True\n"
     ]
    }
   ],
   "source": [
    "x = 5\n",
    "\n",
    "print(x > 3 and x < 10)\n",
    "\n",
    "# returns True because 5 is greater than 3 AND 5 is less than 10"
   ]
  },
  {
   "cell_type": "code",
   "execution_count": 8,
   "id": "0616c1c8",
   "metadata": {},
   "outputs": [
    {
     "name": "stdout",
     "output_type": "stream",
     "text": [
      "True\n"
     ]
    }
   ],
   "source": [
    "x = 5\n",
    "\n",
    "print(x > 3 or x < 4)\n",
    "\n",
    "# returns True because one of the conditions are true (5 is greater than 3, but 5 is not less than 4)\n"
   ]
  },
  {
   "cell_type": "code",
   "execution_count": 9,
   "id": "68d01f7f",
   "metadata": {},
   "outputs": [
    {
     "name": "stdout",
     "output_type": "stream",
     "text": [
      "False\n"
     ]
    }
   ],
   "source": [
    "x = 5\n",
    "\n",
    "print(not(x > 3 and x < 10))\n",
    "\n",
    "# returns False because not is used to reverse the result"
   ]
  },
  {
   "cell_type": "markdown",
   "id": "302f0969",
   "metadata": {},
   "source": [
    "Q.4. Explain right shift operator and left shift operator with examples.\n"
   ]
  },
  {
   "cell_type": "markdown",
   "id": "51fad796",
   "metadata": {},
   "source": [
    "    >> - Bitwise right shift\n",
    "         Shifts the bits of the number to the right and fills 0 on voids left( fills 1 in the case of a negative number) as a result. \n",
    "           Similar effect as of dividing the number with some power of two.\n",
    "\n",
    "Example 1:\n",
    "a = 10 = 0000 1010 (Binary)\n",
    "a >> 1 = 0000 0101 = 5\n",
    "\n",
    "Example 2:\n",
    "a = -10 = 1111 0110 (Binary)\n",
    "a >> 1 = 1111 1011 = -5 \n",
    "\n",
    "\n",
    "<< - Bitwise left shift\n",
    "Shifts the bits of the number to the left and fills 0 on voids right as a result. \n",
    "Similar effect as of multiplying the number with some power of two.\n",
    "\n",
    "Example 1:\n",
    "a = 5 = 0000 0101 (Binary)\n",
    "a << 1 = 0000 1010 = 10\n",
    "a << 2 = 0001 0100 = 20 \n",
    "\n",
    "Example 2:\n",
    "b = -10 = 1111 0110 (Binary)\n",
    "b << 1 = 1110 1100 = -20\n",
    "b << 2 = 1101 1000 = -40 \n"
   ]
  },
  {
   "cell_type": "code",
   "execution_count": 11,
   "id": "5e5bd285",
   "metadata": {},
   "outputs": [
    {
     "name": "stdout",
     "output_type": "stream",
     "text": [
      "a >> 1 = 5\n",
      "b >> 1 = -5\n",
      "a << 1 = 10\n",
      "b << 1 = -20\n"
     ]
    }
   ],
   "source": [
    "# Python program to show\n",
    "# shift operators\n",
    "\n",
    "a = 10\n",
    "b = -10\n",
    "\n",
    "# print bitwise right shift operator\n",
    "print(\"a >> 1 =\", a >> 1)\n",
    "print(\"b >> 1 =\", b >> 1)\n",
    "\n",
    "a = 5\n",
    "b = -10\n",
    "\n",
    "# print bitwise left shift operator\n",
    "print(\"a << 1 =\", a << 1)\n",
    "print(\"b << 1 =\", b << 1)\n"
   ]
  },
  {
   "cell_type": "markdown",
   "id": "839b0234",
   "metadata": {},
   "source": [
    "Q.5. Create a list containing int type data of length 15. Then write a code to check if 10 is\n",
    "present in the list or not"
   ]
  },
  {
   "cell_type": "code",
   "execution_count": 16,
   "id": "9fc006f5",
   "metadata": {},
   "outputs": [
    {
     "name": "stdout",
     "output_type": "stream",
     "text": [
      "15\n",
      "exist\n"
     ]
    }
   ],
   "source": [
    "mylist= [10,20,30,40,21,35,43,67,87,50,35,87,39,46,76]\n",
    "print(len(mylist))\n",
    "i = 10\n",
    "if i in mylist:\n",
    "    print(\"exist\")\n",
    "else:\n",
    "    print(\"not exist\")"
   ]
  },
  {
   "cell_type": "code",
   "execution_count": null,
   "id": "ed2bc810",
   "metadata": {},
   "outputs": [],
   "source": []
  }
 ],
 "metadata": {
  "kernelspec": {
   "display_name": "Python 3 (ipykernel)",
   "language": "python",
   "name": "python3"
  },
  "language_info": {
   "codemirror_mode": {
    "name": "ipython",
    "version": 3
   },
   "file_extension": ".py",
   "mimetype": "text/x-python",
   "name": "python",
   "nbconvert_exporter": "python",
   "pygments_lexer": "ipython3",
   "version": "3.9.13"
  }
 },
 "nbformat": 4,
 "nbformat_minor": 5
}
