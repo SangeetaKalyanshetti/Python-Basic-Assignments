{
 "cells": [
  {
   "cell_type": "markdown",
   "id": "6829a0c4",
   "metadata": {},
   "source": [
    "# Assignment 6 Solutions - **BY: SANGEETA KALYANSHETTI**\n",
    "\n",
    "## **20 May**\n",
    "**Python Basic - 1**\n"
   ]
  },
  {
   "cell_type": "markdown",
   "id": "af9bba2a",
   "metadata": {},
   "source": [
    "**Q.1. What are keywords in python? Using the keyword library, print all the python keywords.**\n"
   ]
  },
  {
   "cell_type": "markdown",
   "id": "922c7311",
   "metadata": {},
   "source": [
    "Ans: Keywords in Python are reserved words that cannot be used as ordinary identifiers. They are used to define the syntax \n",
    "    and structure of the Python language.\n",
    "\n",
    "Immutability: Keywords are immutable. This means their meaning and definition can't be altered.\n",
    "\n",
    "Case Sensitivity: Keywords are case-sensitive. For example, True is a valid keyword, but true is not.\n",
    "\n",
    "Total Number: As of Python 3.9, there are 35 keywords.\n",
    "\n",
    "List of Keywords: The complete list of Python keywords are False, None, True, and, as, assert, async, await, break, class, continue, def, del, elif, else, except, finally, for, from, global, if, import, in, is, lambda, nonlocal, not, or, pass, raise, return, try, while, with, yield.\n",
    "\n",
    "Special Keywords: async and await are used for handling asynchronous processing, and they became keywords in Python 3.7.\n",
    "\n",
    "Usage: Each keyword has a specific meaning and usage in Python programming. For instance, def is used for defining functions, if is used for making conditional statements, for and while are used for loops, class is used for defining a class, and so on.\n",
    "\n",
    "Identifying Keywords: You can get the list of all keywords in Python by using the following code:"
   ]
  },
  {
   "cell_type": "code",
   "execution_count": 2,
   "id": "cff42c19",
   "metadata": {},
   "outputs": [
    {
     "name": "stdout",
     "output_type": "stream",
     "text": [
      "['False', 'None', 'True', '__peg_parser__', 'and', 'as', 'assert', 'async', 'await', 'break', 'class', 'continue', 'def', 'del', 'elif', 'else', 'except', 'finally', 'for', 'from', 'global', 'if', 'import', 'in', 'is', 'lambda', 'nonlocal', 'not', 'or', 'pass', 'raise', 'return', 'try', 'while', 'with', 'yield']\n"
     ]
    }
   ],
   "source": [
    "# instal package \"keyword\" to check how many keywords are there\n",
    "# pip install keyword\n",
    "\n",
    "# load package\n",
    "import keyword\n",
    "\n",
    "# display all keywords\n",
    "print(keyword.kwlist)"
   ]
  },
  {
   "cell_type": "markdown",
   "id": "11e39496",
   "metadata": {},
   "source": [
    "**Q.2. What are the rules to create variables in python?**\n"
   ]
  },
  {
   "cell_type": "markdown",
   "id": "40238139",
   "metadata": {},
   "source": [
    "Ans: Rules for Python variables:\n",
    "\n",
    "- A variable name must start with a letter or the underscore character\n",
    "- A variable name cannot start with a number\n",
    "- A variable name can only contain alpha-numeric characters and underscores (A-z, 0-9, and _ )\n",
    "- Variable names are case-sensitive (age, Age and AGE are three different variables)\n",
    "- Reserved words cannot be used as a variable names"
   ]
  },
  {
   "cell_type": "markdown",
   "id": "02699269",
   "metadata": {},
   "source": [
    "**Q.3. What are the standards and conventions followed for the nomenclature of variables in\n",
    "python to improve code readability and maintainability?**\n"
   ]
  },
  {
   "cell_type": "markdown",
   "id": "8976f12e",
   "metadata": {},
   "source": [
    "Ans: Python Naming Conventions\n",
    "    \n",
    "    **1. Variables and Functions**\n",
    "         Use lowercase letters and separate words with underscores ('_') for variable and function names.\n",
    "         Choose descriptive names that convey the purpose or meaning of the variable or function.\n",
    "         Example: num_students, calculate_average\n",
    "            \n",
    "    **2. Constants**\n",
    "         Use uppercase letters and separate words with underscores ('_') for constant names.\n",
    "         Constants are usually used for values that don't change throughout the program.\n",
    "         Example: MAX_VALUE, PI\n",
    "            \n",
    "    **3. Classes**\n",
    "         Use CamelCase (capitalizing the first letter of each word) for class names.\n",
    "         Class names should be nouns or noun phrases that describe the class's purpose.\n",
    "         Example: Person, CustomerData\n",
    "            \n",
    "    **4. Modules**\n",
    "         Use lowercase letters and separate words with underscores ('_') for module names.\n",
    "         Module names should be short, descriptive, and avoid using reserved keywords.\n",
    "         Example: utils, data_processing\n",
    "            \n",
    "    **5. Packages**\n",
    "         Package names follow the same conventions as module names but can have multiple levels.\n",
    "         Use lowercase letters and separate words with underscores ('_').\n",
    "         Example: my_package, data_analysis\n",
    "            \n",
    "    **6.Additional Tips for Naming**\n",
    "        - Avoid Reserved Keywords: Do not use Python's reserved keywords, such as print or list, as variable or function names.\n",
    "        - Be Specific and Clear: Choose names that accurately describe the purpose or content of the element they represent. Avoid generic or ambiguous names that may lead to confusion.\n",
    "        - Consistency within a Project: Ensure that all team members adhere to the same naming conventions within a project. Consistency is key for readability and collaboration.\n",
    "        - Use Comments When Necessary: Although meaningful names are preferred, there might be instances where additional context is required. In such cases, use comments to explain the purpose or functionality of the code.\n",
    "        - Refactoring: If you realize that a name is no longer suitable or does not align with naming conventions, consider refactoring your code. Refactoring improves code quality and readability."
   ]
  },
  {
   "cell_type": "markdown",
   "id": "5e0adde9",
   "metadata": {},
   "source": [
    "**Q.4. What will happen if a keyword is used as a variable name?**"
   ]
  },
  {
   "cell_type": "markdown",
   "id": "096bb77e",
   "metadata": {},
   "source": [
    "Ans: We will get a SyntaxError: invalid syntax if a keyword is used as a variable name\n"
   ]
  },
  {
   "cell_type": "markdown",
   "id": "608dba2f",
   "metadata": {},
   "source": [
    "**Q.5. For what purpose def keyword is used?**\n"
   ]
  },
  {
   "cell_type": "markdown",
   "id": "93254af4",
   "metadata": {},
   "source": [
    "Ans: The def keyword is used to create, (or define) a function.\n"
   ]
  },
  {
   "cell_type": "markdown",
   "id": "f177a5cd",
   "metadata": {},
   "source": [
    "**Q.6. What is the operation of this special character ‘\\’?**\n"
   ]
  },
  {
   "cell_type": "markdown",
   "id": "d3e5ba14",
   "metadata": {},
   "source": [
    "Ans: The backslash \"\\\\\" is a special character, also called the \"escape\" character. It is used in representing certain whitespace characters: \"\\t\" is a tab, \"\\n\" is a newline, and \"\\r\" is a carriage return."
   ]
  },
  {
   "cell_type": "markdown",
   "id": "fe0eaa1e",
   "metadata": {},
   "source": [
    "**Q.7. Give an example of the following conditions:\n",
    "(i) Homogeneous list\n",
    "(ii) Heterogeneous set\n",
    "(iii) Homogeneous tuple**"
   ]
  },
  {
   "cell_type": "markdown",
   "id": "b01a6e41",
   "metadata": {},
   "source": [
    "Ans:\n",
    "    1. Homogeneous list \n",
    "    - A list in Python is an ordered collection (also known as a sequence) of items. \n",
    "    - lists are similar to arrays in other languages, but with additional functionality.\n",
    "    - Lists are mutable, which means their elements can be changed (added, modified, or deleted) after they are created.\n",
    "    - A list is created by placing items (elements) inside square brackets [], separated by commas.\n",
    "    \n",
    "    Eg: fruits = [\"apple\", \"banana\", \"cherry\"]\n",
    "        print(fruits)\n",
    "    \n",
    "    2. Heterogeneous set\n",
    "    - Python sets can store heterogeneous elements in it, i.e., a set can store a mixture of string, integer, boolean, etc datatypes.\n",
    "    \n",
    "    Eg: myset = {\"Hi\", \"hello\", 10, 52.7, True}\n",
    "        print(myset)\n",
    "        \n",
    "    3. Homogeneous tuple\n",
    "    - Tuples can store heterogeneous (e.g., different data types) and homogenous data\n",
    "    - tuple is an immutable, i.e., we can not change the values and order of values of tuple once initialized\n",
    " \n",
    "    Eg: my_tuple = (1, 4, 3)\n",
    "        print(my_tuple)"
   ]
  },
  {
   "cell_type": "markdown",
   "id": "e70dae17",
   "metadata": {},
   "source": [
    "**Q.8. Explain the mutable and immutable data types with proper explanation & examples.**"
   ]
  },
  {
   "cell_type": "markdown",
   "id": "c2d1532b",
   "metadata": {},
   "source": [
    "Ans:\n",
    "**Mutable Data type**\n",
    "- A mutable object can be changed after it is created\n",
    "Examples : List, Set, Dictionary\n",
    "- Mutable objects are not considered as thread-safe in nature\n",
    "- Mutable Objects are slower to access, as compared to immutable objects\n",
    "- Mutable objects are useful when we need to change the size or contents of our object.\n",
    "- Changing mutable objects is a cheaper operation in terms of space and time\n",
    "\n",
    "**Immutable Data type**\n",
    "- An immutable object cannot be changed after it is created\n",
    "Examples: tuples, Numbers, Strings\n",
    "- Immutable objects are regarded as thread-safe in nature\n",
    "- Immutable objects are faster to access when compared to mutable objects\n",
    "- Immutable objects are best suitable when we are sure that we don't need to change them at any point in time.\n",
    "- Changing immutable objects is an expensive operation since it involves creating a new copy for any changes made.\n"
   ]
  },
  {
   "cell_type": "markdown",
   "id": "ad6f568d",
   "metadata": {},
   "source": [
    "**Q.9. Write a code to create the given structure using only for loop.\n",
    "         *\n",
    "        ***\n",
    "       *****\n",
    "      *******\n",
    "     *********\n",
    "**"
   ]
  },
  {
   "cell_type": "code",
   "execution_count": 16,
   "id": "cf130ba2",
   "metadata": {},
   "outputs": [
    {
     "name": "stdout",
     "output_type": "stream",
     "text": [
      "    *\n",
      "   ***\n",
      "  *****\n",
      " *******\n",
      "*********\n"
     ]
    }
   ],
   "source": [
    "n = 5\n",
    "for i in range(1, n+1):\n",
    "    for j in range(n - i):\n",
    "        print(' ', end='')\n",
    "    for k in range(2 * i - 1):\n",
    "        print('*', end='')\n",
    "    print()"
   ]
  },
  {
   "cell_type": "markdown",
   "id": "4b707777",
   "metadata": {},
   "source": [
    "**Q.10. Write a code to create the given structure using while loop.\n",
    "\n",
    "   |||||||||\n",
    "    |||||||\n",
    "     |||||\n",
    "      |||\n",
    "       |\n",
    "\n",
    "**\n"
   ]
  },
  {
   "cell_type": "code",
   "execution_count": 26,
   "id": "0fdc01ca",
   "metadata": {},
   "outputs": [
    {
     "name": "stdout",
     "output_type": "stream",
     "text": [
      "|||||||||\n",
      " |||||||\n",
      "  |||||\n",
      "   |||\n",
      "    |\n"
     ]
    }
   ],
   "source": [
    "n = 5\n",
    "\n",
    "for i in range(1, n+1):\n",
    "    # printing spaces\n",
    "    for j in range(i-1):\n",
    "        print(' ', end='')\n",
    "    # printing lines\n",
    "    for j in range(2*(n-i)+1):\n",
    "        print('|', end='')\n",
    "    print()"
   ]
  },
  {
   "cell_type": "code",
   "execution_count": null,
   "id": "f225eeb2",
   "metadata": {},
   "outputs": [],
   "source": []
  }
 ],
 "metadata": {
  "kernelspec": {
   "display_name": "Python 3 (ipykernel)",
   "language": "python",
   "name": "python3"
  },
  "language_info": {
   "codemirror_mode": {
    "name": "ipython",
    "version": 3
   },
   "file_extension": ".py",
   "mimetype": "text/x-python",
   "name": "python",
   "nbconvert_exporter": "python",
   "pygments_lexer": "ipython3",
   "version": "3.9.13"
  }
 },
 "nbformat": 4,
 "nbformat_minor": 5
}
